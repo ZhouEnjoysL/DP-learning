{
 "cells": [
  {
   "cell_type": "markdown",
   "metadata": {},
   "source": [
    "# RNN\n",
    "\n",
    "rnn 前向反向传播算法\n",
    "https://www.cnblogs.com/pinard/p/6509630.html\n",
    "\n"
   ]
  },
  {
   "cell_type": "markdown",
   "metadata": {},
   "source": [
    "# 常用函数反向传递函数\n",
    "\n",
    "sigmod function:$\\sigma(x)=\\frac{1}{1+e^{-x}}$\n",
    "\n",
    "\n",
    "backpro:$(1 - \\sigma(x))*\\sigma(x)$\n",
    "\n",
    "\n",
    "softmax function:$L_i=-log(\\frac{e^{f_{y_i}}}{\\sum_{j}e^{f_j}})$"
   ]
  },
  {
   "cell_type": "markdown",
   "metadata": {},
   "source": []
  },
  {
   "cell_type": "code",
   "execution_count": null,
   "metadata": {},
   "outputs": [],
   "source": []
  }
 ],
 "metadata": {
  "kernelspec": {
   "display_name": "Python 3",
   "language": "python",
   "name": "python3"
  },
  "language_info": {
   "codemirror_mode": {
    "name": "ipython",
    "version": 3
   },
   "file_extension": ".py",
   "mimetype": "text/x-python",
   "name": "python",
   "nbconvert_exporter": "python",
   "pygments_lexer": "ipython3",
   "version": "3.6.4"
  }
 },
 "nbformat": 4,
 "nbformat_minor": 2
}
